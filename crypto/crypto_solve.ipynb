{
 "cells": [
  {
   "cell_type": "code",
   "execution_count": 1,
   "id": "b41162fa",
   "metadata": {},
   "outputs": [],
   "source": [
    "# Get N1, e, Cipher1, N2, Cipher 2\n",
    "\n",
    "N1 = 13612796601194274909683343888814595377909098866227454893794404165286429358669632611721083602228104318234540957887838679595232077370901228625405708594855026\n",
    "e = 65537\n",
    "cipher1 = 11155117662740930222873019462005639943278495562277562855822123454816775104803994866263293025677579632078722204008311539243740558824923814478678388660572245\n",
    "\n",
    "N2 = 15790151875624619959810757581030511393190134149366585373139139845902460463980345222239127771942178329959810705978745069449263371950831106220773282176260382\n",
    "cipher2 = 3055104779854195801126001026506549933384089081469266128668873611825529194266904636635297825425080735544812356275673778887418768899812875768020551677644901"
   ]
  },
  {
   "cell_type": "code",
   "execution_count": 4,
   "id": "b9776cdc",
   "metadata": {},
   "outputs": [
    {
     "data": {
      "text/plain": [
       "2"
      ]
     },
     "execution_count": 4,
     "metadata": {},
     "output_type": "execute_result"
    }
   ],
   "source": [
    "from Crypto.Util.number import inverse, long_to_bytes\n",
    "import math\n",
    "\n",
    "# First : Check the GCD of N1, N2 then You can get p.(the gcd of n1, n2 is p)\n",
    "p = math.gcd(N1, N2)\n",
    "p\n"
   ]
  },
  {
   "cell_type": "code",
   "execution_count": null,
   "id": "5197ffbd",
   "metadata": {},
   "outputs": [
    {
     "data": {
      "text/plain": [
       "6806398300597137454841671944407297688954549433113727446897202082643214679334816305860541801114052159117270478943919339797616038685450614312702854297427513"
      ]
     },
     "execution_count": 5,
     "metadata": {},
     "output_type": "execute_result"
    }
   ],
   "source": [
    "# OK. . Now Divided N1 by p\n",
    "q = N1 // p\n",
    "q\n"
   ]
  },
  {
   "cell_type": "code",
   "execution_count": 7,
   "id": "8f789838",
   "metadata": {},
   "outputs": [
    {
     "data": {
      "text/plain": [
       "7895075937812309979905378790515255696595067074683292686569569922951230231990172611119563885971089164979905352989372534724631685975415553110386641088130191"
      ]
     },
     "execution_count": 7,
     "metadata": {},
     "output_type": "execute_result"
    }
   ],
   "source": [
    "# I wonder what can I get q from N2\n",
    "q2 = N2 // p\n",
    "q2"
   ]
  },
  {
   "cell_type": "code",
   "execution_count": 8,
   "id": "1408b31f",
   "metadata": {},
   "outputs": [
    {
     "data": {
      "text/plain": [
       "6806398300597137454841671944407297688954549433113727446897202082643214679334816305860541801114052159117270478943919339797616038685450614312702854297427512"
      ]
     },
     "execution_count": 8,
     "metadata": {},
     "output_type": "execute_result"
    }
   ],
   "source": [
    "# Calculate phi(N)\n",
    "phi1 = (p-1) * (q-1)\n",
    "phi1"
   ]
  },
  {
   "cell_type": "code",
   "execution_count": 9,
   "id": "1ba1ca11",
   "metadata": {},
   "outputs": [
    {
     "data": {
      "text/plain": [
       "2252424833961742483186691199327181169080767629054892974477112452025055159153050887918327518540085191982168273606294499924175605337596364240259693058922561"
      ]
     },
     "execution_count": 9,
     "metadata": {},
     "output_type": "execute_result"
    }
   ],
   "source": [
    "# Calculate d\n",
    "d = inverse(e, phi1)\n",
    "d"
   ]
  },
  {
   "cell_type": "code",
   "execution_count": 12,
   "id": "6a0196b3",
   "metadata": {},
   "outputs": [
    {
     "data": {
      "text/plain": [
       "'picoCTF{tw0_1$_pr!m3993b4dd0}'"
      ]
     },
     "execution_count": 12,
     "metadata": {},
     "output_type": "execute_result"
    }
   ],
   "source": [
    "# decrypted msg\n",
    "\n",
    "decrypted_msg = pow(cipher1, d, N1)\n",
    "\n",
    "# the value is number, we must convert it into plaintext\n",
    "long_to_bytes(decrypted_msg).decode('utf-8')"
   ]
  }
 ],
 "metadata": {
  "kernelspec": {
   "display_name": ".venv",
   "language": "python",
   "name": "python3"
  },
  "language_info": {
   "codemirror_mode": {
    "name": "ipython",
    "version": 3
   },
   "file_extension": ".py",
   "mimetype": "text/x-python",
   "name": "python",
   "nbconvert_exporter": "python",
   "pygments_lexer": "ipython3",
   "version": "3.12.2"
  }
 },
 "nbformat": 4,
 "nbformat_minor": 5
}
